{
 "cells": [
  {
   "cell_type": "code",
   "execution_count": 26,
   "metadata": {},
   "outputs": [],
   "source": [
    "import re"
   ]
  },
  {
   "cell_type": "code",
   "execution_count": 27,
   "metadata": {},
   "outputs": [
    {
     "name": "stdout",
     "output_type": "stream",
     "text": [
      "Found:  abbb\n"
     ]
    }
   ],
   "source": [
    "#1task\n",
    "s = input('Input your string: ')\n",
    "\n",
    "check = re.compile('ab*')\n",
    "\n",
    "n = check.search(s)\n",
    "\n",
    "if n:\n",
    "    print(\"Found: \", n.group())\n",
    "\n",
    "else:\n",
    "    print('No match')"
   ]
  },
  {
   "cell_type": "code",
   "execution_count": 28,
   "metadata": {},
   "outputs": [
    {
     "name": "stdout",
     "output_type": "stream",
     "text": [
      "Found:  abbb\n"
     ]
    }
   ],
   "source": [
    "#2task\n",
    "s = input('Input your string: ')\n",
    "\n",
    "check = re.compile('ab{2,3}')\n",
    "\n",
    "n = check.search(s)\n",
    "\n",
    "if n:\n",
    "    print(\"Found: \", n.group())\n",
    "\n",
    "else:\n",
    "    print('No match')"
   ]
  },
  {
   "cell_type": "code",
   "execution_count": 29,
   "metadata": {},
   "outputs": [
    {
     "name": "stdout",
     "output_type": "stream",
     "text": [
      "Found:  hello_world\n"
     ]
    }
   ],
   "source": [
    "#3task\n",
    "s=input(\"Input your string: \")\n",
    "check = re.compile(r'[a-z]+_[a-z]+')\n",
    "n = check.search(s)\n",
    "if n:\n",
    "    print(\"Found: \", n.group())\n",
    "else:\n",
    "    print('No match')"
   ]
  },
  {
   "cell_type": "code",
   "execution_count": 30,
   "metadata": {},
   "outputs": [
    {
     "name": "stdout",
     "output_type": "stream",
     "text": [
      "Found:  Hello\n"
     ]
    }
   ],
   "source": [
    "#4task\n",
    "s=input('Input your string: ')\n",
    "check = re.compile(r'[A-Z][a-z]+')\n",
    "n=check.search(s)\n",
    "if n:\n",
    "    print(\"Found: \", n.group())\n",
    "else:\n",
    "    print('No match')"
   ]
  },
  {
   "cell_type": "code",
   "execution_count": 31,
   "metadata": {},
   "outputs": [
    {
     "name": "stdout",
     "output_type": "stream",
     "text": [
      "Found:  awdcsdb\n"
     ]
    }
   ],
   "source": [
    "#5task\n",
    "s=input('Input your string: ')\n",
    "check = re.compile(r'a.*b$')\n",
    "n=check.search(s)\n",
    "if n:\n",
    "    print(\"Found: \",n.group())\n",
    "else:\n",
    "    print(\"No match\")"
   ]
  },
  {
   "cell_type": "code",
   "execution_count": null,
   "metadata": {},
   "outputs": [
    {
     "name": "stdout",
     "output_type": "stream",
     "text": [
      "Hello:world\n"
     ]
    }
   ],
   "source": [
    "#6task\n",
    "s = input('Input your string: ')\n",
    "\n",
    "print(re.sub(r'[ ,.]', ':', s))"
   ]
  },
  {
   "cell_type": "code",
   "execution_count": null,
   "metadata": {},
   "outputs": [
    {
     "data": {
      "text/plain": [
       "'helloWorld'"
      ]
     },
     "execution_count": 24,
     "metadata": {},
     "output_type": "execute_result"
    }
   ],
   "source": [
    "#7task\n",
    "s = input('Input your string: ')\n",
    "\n",
    "def snake_to_camel(s):\n",
    "    parts = s.split('_')\n",
    "    return parts[0] + ''.join(word.capitalize() for word in parts[1:])\n",
    "snake_to_camel(s)"
   ]
  },
  {
   "cell_type": "code",
   "execution_count": 25,
   "metadata": {},
   "outputs": [
    {
     "name": "stdout",
     "output_type": "stream",
     "text": [
      "['Hello', 'World']\n"
     ]
    }
   ],
   "source": [
    "#8task\n",
    "def split_at_uppercase(s):\n",
    "    return re.findall(r'[A-Z][^A-Z]*', s)\n",
    "\n",
    "s = input(\"Enter a string: \")\n",
    "print(split_at_uppercase(s))"
   ]
  },
  {
   "cell_type": "code",
   "execution_count": null,
   "metadata": {},
   "outputs": [
    {
     "name": "stdout",
     "output_type": "stream",
     "text": [
      "Hello World\n"
     ]
    }
   ],
   "source": [
    "#9task\n",
    "s = input('Input your string: ')\n",
    "\n",
    "def space_between_big(s):\n",
    "    result = re.sub(r'([a-z])([A-Z])', r'\\1 \\2', s)\n",
    "    return result\n",
    "\n",
    "print(space_between_big(s))"
   ]
  },
  {
   "cell_type": "code",
   "execution_count": null,
   "metadata": {},
   "outputs": [
    {
     "name": "stdout",
     "output_type": "stream",
     "text": [
      "hello_World\n"
     ]
    }
   ],
   "source": [
    "#10task\n",
    "s = input('Input your string: ')\n",
    "\n",
    "def camel_to_snake(s):\n",
    "    result = re.sub('([a-z])([A-Z])', r'\\1_\\2', s)\n",
    "    return result\n",
    "    \n",
    "print(camel_to_snake(s))"
   ]
  }
 ],
 "metadata": {
  "kernelspec": {
   "display_name": "base",
   "language": "python",
   "name": "python3"
  },
  "language_info": {
   "codemirror_mode": {
    "name": "ipython",
    "version": 3
   },
   "file_extension": ".py",
   "mimetype": "text/x-python",
   "name": "python",
   "nbconvert_exporter": "python",
   "pygments_lexer": "ipython3",
   "version": "3.12.7"
  }
 },
 "nbformat": 4,
 "nbformat_minor": 2
}
